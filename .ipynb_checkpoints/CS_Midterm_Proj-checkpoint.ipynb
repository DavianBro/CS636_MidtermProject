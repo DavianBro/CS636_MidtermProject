{
 "cells": [
  {
   "cell_type": "code",
   "execution_count": null,
   "id": "3d2493ff",
   "metadata": {},
   "outputs": [],
   "source": [
    "#Davian, Abosede, Oun, and Maryana's team"
   ]
  },
  {
   "cell_type": "code",
   "execution_count": 2,
   "id": "4f6b87f8",
   "metadata": {
    "scrolled": true
   },
   "outputs": [],
   "source": [
    "#Load Library DPLYR\n",
    "library(dplyr)\n",
    "library(ggplot2)\n",
    "library(tidyr)"
   ]
  },
  {
   "cell_type": "code",
   "execution_count": 46,
   "id": "d542de43",
   "metadata": {},
   "outputs": [],
   "source": [
    "#Load Stock Data \n",
    "#CHANGE PATH TO YOUR OWN FOR GITHUB PURPOSES\n",
    "\n",
    "#Retrieve Close & Adj Columns from program\n",
    "IBM = read.csv(\"/Users/davianbrown/Documents/GitHub/CS636_MidtermProject/IBM.csv\")[, c(\"Close\", \"Adj.Close\")]\n",
    "MSFT = read.csv(\"/Users/davianbrown/Documents/GitHub/CS636_MidtermProject/MSFT.csv\") [, c(\"Close\", \"Adj.Close\")]\n",
    "GOOG = read.csv(\"/Users/davianbrown/Documents/GitHub/CS636_MidtermProject/GOOG.csv\") [, c(\"Close\", \"Adj.Close\")]\n",
    "AAPL= read.csv(\"/Users/davianbrown/Documents/GitHub/CS636_MidtermProject/AAPL.csv\")  [, c(\"Close\", \"Adj.Close\")]\n",
    "AMZN = read.csv(\"/Users/davianbrown/Documents/GitHub/CS636_MidtermProject/AMZN.csv\") [, c(\"Close\", \"Adj.Close\")]\n",
    "FB = read.csv(\"/Users/davianbrown/Documents/GitHub/CS636_MidtermProject/FB.csv\")     [, c(\"Close\", \"Adj.Close\")]\n",
    "NFLX = read.csv(\"/Users/davianbrown/Documents/GitHub/CS636_MidtermProject/NFLX.csv\")[, c(\"Close\", \"Adj.Close\")]\n",
    "TSLA = read.csv(\"/Users/davianbrown/Documents/GitHub/CS636_MidtermProject/TSLA.csv\")[, c(\"Close\", \"Adj.Close\")]\n",
    "ORCL = read.csv(\"/Users/davianbrown/Documents/GitHub/CS636_MidtermProject/ORCL.csv\")[, c(\"Close\", \"Adj.Close\")]\n",
    "SAP = read.csv(\"/Users/davianbrown/Documents/GitHub/CS636_MidtermProject/SAP.csv\")[, c(\"Close\", \"Adj.Close\")]\n",
    "#Date ??\n",
    "Date = read.csv(\"/Users/davianbrown/Documents/GitHub/CS636_MidtermProject/IBM.csv\")[, c(\"Date\")]\n"
   ]
  },
  {
   "cell_type": "code",
   "execution_count": 67,
   "id": "d3648181",
   "metadata": {},
   "outputs": [],
   "source": [
    "#Rename Columns to have name function\n",
    "#Rename IBM\n",
    "names(IBM) = c(\"IBM.Close\",\"IBM.Adj.Close\")\n",
    "#Rename Amazon\n",
    "names(AMZN) = c(\"AMZN.Close\",\"AMZN.Adj.Close\")\n",
    "#Rename Microsoft\n",
    "names(MSFT) = c(\"MSFT.Close\",\"MSFT.Adj.Close\")\n",
    "#Rename Google\n",
    "names(GOOG) = c(\"GOOG.Close\",\"GOOG.Adj.Close\")\n",
    "#Rename Apple\n",
    "names(AAPL) = c(\"AAPL.Close\",\"AAPL.Adj.Close\")\n",
    "#Rename Facebook\n",
    "names(FB) = c(\"FB.Close\",\"FB.Adj.Close\")\n",
    "#Rename Netflix\n",
    "names(NFLX) = c(\"NFLX.Close\",\"NFLX.Adj.Close\")\n",
    "#Rename Tesla\n",
    "names(TSLA) = c(\"TSLA.Close\",\"TSLA.Adj.Close\")\n",
    "#Rename Oracle\n",
    "names(ORCL) = c(\"ORCL.Close\",\"ORCL.Adj.Close\")\n",
    "#Rename SAP\n",
    "names(SAP) = c(\"SAP.Close\",\"SAP.Adj.Close\")\n",
    "\n",
    "\n",
    "\n",
    "\n",
    "\n"
   ]
  },
  {
   "cell_type": "markdown",
   "id": "d7cf8f68",
   "metadata": {},
   "source": [
    "<h2> <b> Retrieve the \"Close\" and \"Adj Close\" values for each stock </b> <h2>\n",
    "    You will create a dataframe where there are 20 columns for the 10 stocks, each row is the \"Close\" and \"Adj Close\" prices for the 10 stocks on each day, in the order of the business days in 2018. Assume all buy/sell on the \"Close\" prices and there is no transaction cost.\n"
   ]
  },
  {
   "cell_type": "code",
   "execution_count": null,
   "id": "7030321c",
   "metadata": {},
   "outputs": [],
   "source": [
    "#Add all Stocks to Dataframe\n",
    "market = as.data.frame(cbind(Date, IBM, AMZN,MSFT,GOOG,AAPL, FB, NFLX, TSLA,ORCL, SAP))\n"
   ]
  },
  {
   "cell_type": "code",
   "execution_count": null,
   "id": "db827cc0",
   "metadata": {},
   "outputs": [],
   "source": [
    "head(market)"
   ]
  },
  {
   "cell_type": "markdown",
   "id": "df11b682",
   "metadata": {},
   "source": [
    "<h2> <b> You start to manage 5 million dollars fund on Jan 02, 2018 </b> </h2>\n",
    "<br></br>\n",
    "    You have a strategy to manage the fund."
   ]
  },
  {
   "cell_type": "code",
   "execution_count": 69,
   "id": "48d9d5f6",
   "metadata": {},
   "outputs": [],
   "source": [
    "# Function to get the Trading Day stock value\n",
    "ValueofStock = function(stock,day){  #Stock Value = SV\n",
    "    stock = paste(stock, \".Close\", sep=\"\")\n",
    "    price = market[[stock]][day]\n",
    "    return(price)\n",
    "    \n",
    "   }"
   ]
  },
  {
   "cell_type": "code",
   "execution_count": 70,
   "id": "8dd0102f",
   "metadata": {},
   "outputs": [],
   "source": [
    "# This Function enables traders to purchase Stocks.\n",
    "purchaseStocks = function(df) { #buyStock\n",
    "    \n",
    "    temp = data.frame(stock=df[[\"stock\"]], amount = 0, remainingCash = 0)\n",
    "    stock = paste(temp[[\"stock\"]] , \".Close\", sep=\"\")\n",
    "    day = df[[\"day\"]]\n",
    "    price = market[[stock]][day]\n",
    "    numberOfStockPurchased = df[[\"cash\"]] %/% price\n",
    "    temp$amount = numberOfStockPurchased\n",
    "    cashLeft = df[[\"cash\"]] - (numberOfStockPurchased * price)\n",
    "    temp$remainingCash = cashLeft\n",
    "    return(temp)\n",
    "}"
   ]
  },
  {
   "cell_type": "code",
   "execution_count": 71,
   "id": "f3e2a7c6",
   "metadata": {},
   "outputs": [],
   "source": [
    "#Function to Calculate MTM\n",
    "\n",
    "mtm = function(today,cash, stocks, shares){ #mtmvalue\n",
    "total = 0\n",
    "for (x in 1:length(stocks)) {\n",
    "    value = stockValue(stocks[x], today) * as.numeric(shares[x])\n",
    "        total = total + value\n",
    "    }\n",
    "    \n",
    "    return(total)\n",
    "}\n",
    "\n"
   ]
  },
  {
   "cell_type": "code",
   "execution_count": null,
   "id": "5de600d2",
   "metadata": {},
   "outputs": [],
   "source": [
    "#function to find surged the most\n",
    "surgedMost = function(today, interval){\n",
    "    mydata = market\n",
    "    mydata = select(mydata,ends_with(\"Adj.Close\"))\n",
    "    surgedMost = mydata %>% slice(today-interval,today) %>%\n",
    "    mutate(IBM = (IBM.Adj.Close - lag(IBM.Adj.Close))/lag(IBM.Adj.Close) * 100) %>%\n",
    "    mutate(AMZN = (AMZN.Adj.Close - lag(AMZN.Adj.Close))/lag(AMZN.Adj.Close) * 100) %>%\n",
    "    mutate(AAPL = (AAPL.Adj.Close - lag(AAPL.Adj.Close))/lag(AAPL.Adj.Close) * 100) %>%\n",
    "    mutate(FB = (FB.Adj.Close - lag(FB.Adj.Close))/lag(FB.Adj.Close) * 100) %>%\n",
    "    mutate(GOOG = (GOOG.Adj.Close - lag(GOOG.Adj.Close))/lag(GOOG.Adj.Close) * 100) %>%\n",
    "mutate(MSFT = (MSFT.Adj.Close - lag(MSFT.Adj.Close))/lag(MSFT.Adj.Close) * 100) %>%\n",
    "    mutate(NFLX = (NFLX.Adj.Close - lag(NFLX.Adj.Close))/lag(NFLX.Adj.Close) * 100) %>%\n",
    "    mutate(ORCL = (ORCL.Adj.Close - lag(ORCL.Adj.Close))/lag(ORCL.Adj.Close) * 100) %>%\n",
    "    mutate(SAP = (SAP.Adj.Close - lag(SAP.Adj.Close))/lag(SAP.Adj.Close) * 100) %>%\n",
    "    mutate(TSLA = (TSLA.Adj.Close - lag(TSLA.Adj.Close))/lag(TSLA.Adj.Close) * 100) %>%\n",
    "    select(-contains(\".Adj.Close\")) %>%\n",
    "    slice(2)\n",
    "    allCols = sort(surgedMost[1,1:10])\n",
    "    cols = c(colnames(allCols))\n",
    "    return(cols[6:10])\n",
    "}\n"
   ]
  },
  {
   "cell_type": "code",
   "execution_count": null,
   "id": "3f13035b",
   "metadata": {},
   "outputs": [],
   "source": [
    "#function to find dropped the most\n",
    "droppedMost = function(today, interval){\n",
    "    mydata = market\n",
    "    mydata = select(mydata,ends_with(\"Adj.Close\"))\n",
    "    droppedmost = mydata %>% slice(today-interval,today) %>%\n",
    "    mutate(IBM = (IBM.Adj.Close - lag(IBM.Adj.Close))/lag(IBM.Adj.Close) * 100) %>%\n",
    "    mutate(AMZN = (AMZN.Adj.Close - lag(AMZN.Adj.Close))/lag(AMZN.Adj.Close) * 100) %>%\n",
    "    mutate(AAPL = (AAPL.Adj.Close - lag(AAPL.Adj.Close))/lag(AAPL.Adj.Close) * 100) %>%\n",
    "    mutate(FB = (FB.Adj.Close - lag(FB.Adj.Close))/lag(FB.Adj.Close) * 100) %>%\n",
    "    mutate(GOOG = (GOOG.Adj.Close - lag(GOOG.Adj.Close))/lag(GOOG.Adj.Close) * 100) %>%\n",
    "    mutate(MSFT = (MSFT.Adj.Close - lag(MSFT.Adj.Close))/lag(MSFT.Adj.Close) * 100) %>%\n",
    "    mutate(NFLX = (NFLX.Adj.Close - lag(NFLX.Adj.Close))/lag(NFLX.Adj.Close) * 100) %>%\n",
    "    mutate(ORCL = (ORCL.Adj.Close - lag(ORCL.Adj.Close))/lag(ORCL.Adj.Close) * 100) %>%\n",
    "    mutate(SAP = (SAP.Adj.Close - lag(SAP.Adj.Close))/lag(SAP.Adj.Close) * 100) %>%\n",
    "    mutate(TSLA = (TSLA.Adj.Close - lag(TSLA.Adj.Close))/lag(TSLA.Adj.Close) * 100) %>%\n",
    "    select(-contains(\".Adj.Close\")) %>%\n",
    "    slice(2)\n",
    "    allCols = sort(droppedmost[1,1:10])\n",
    "    cols = c(colnames(allCols))\n",
    "    return(cols[1:5])\n",
    "    }"
   ]
  },
  {
   "cell_type": "code",
   "execution_count": null,
   "id": "cc73073a",
   "metadata": {},
   "outputs": [],
   "source": [
    "#function to calculate percent change\n",
    "percentChange = function(prev,curr){\n",
    "    p = curr - prev\n",
    "    p = p/prev\n",
    "    return(p*100)\n",
    "}\n"
   ]
  },
  {
   "cell_type": "code",
   "execution_count": null,
   "id": "d1e15942",
   "metadata": {},
   "outputs": [],
   "source": [
    "# initialize variables\n",
    "buyStocksDf = data.frame(day = 12,stock = \"IBM\",cash = 10000)\n",
    "stocks = list()\n",
    "shares = list()\n",
    "totalCash  = 5000000\n",
    "dayInterval = 5\n",
    "mtmprev = 0\n",
    "mtmcurr = 0\n",
    "mtm1 = list()\n",
    "mtm1Val = list()\n",
    "# 5 days rebalancing of buying low\n",
    "for (today in 1:NROW(dates)){\n",
    "    if(today %% dayInterval == 1){\n",
    "        #initial day\n",
    "        if(today == 1){\n",
    "            stocks = list('IBM', 'MSFT', 'GOOG', 'AAPL', 'AMZN')\n",
    "            splitCash = totalCash/5\n",
    "            totalCash = 0\n",
    "            for(x in stocks){\n",
    "                buyStocksDf = data.frame(day = today ,stock = x,cash = splitCash)\n",
    "                stockDf = buyStocks(buyStocksDf)\n",
    "                totalCash = totalCash + stockDf$remainingCash\n",
    "                shares = append(shares, stockDf$amount)\n",
    "            }\n",
    "}\n",
    "        #rebalance\n",
    "        else {\n",
    "            #find the 5 stocks whose \"Adj Close\" prices dropped the most\n",
    "            mostDropped = droppedMost(today,dayInterval)\n",
    "            #sell all current holdings\n",
    "            for(x in stocks){\n",
    "                totalCash = totalCash + stockValue(x, today)\n",
    "            }\n",
    "            stocks = list()\n",
    "            shares = list()\n",
    "            #split your cash\n",
    "            splitCash = totalCash/5\n",
    "            #buy the max shares of stock\n",
    "            stocks = mostDropped\n",
    "            for(x in stocks){\n",
    "                buyStocksDf = data.frame(day = today ,stock = x,cash = splitCash)\n",
    "                stockDf = buyStocks(buyStocksDf)\n",
    "                totalCash = totalCash + stockDf$remainingCash\n",
    "                shares = append(shares, stockDf$amount)\n",
    "            }\n",
    "}\n",
    "    }\n",
    "    mtmprev = mtmcurr\n",
    "    #USD to JPY\n",
    "    mtmcurr = mtmValue(today, totalCash, stocks, shares)\n",
    "    mtm1Val = append(mtm1Val, mtmcurr)\n",
    "    mtm1 = append(mtm1, percentChange(mtmprev,mtmcurr))\n",
    "}\n",
    "#total\n",
    "plot((2:250),mtm1Val[-1])\n",
    "#percent change\n",
    "plot((2:250),mtm1[-1])\n",
    "#function for high-tech index\n",
    "highTech = function(){\n",
    "    ht = universe\n",
    "    htday = ht %>% select(1,3,5,7,9,11,13,15,17,19)\n",
    "    return(rowMeans(htday))\n",
    "}\n",
    "myHighTechAvg = highTech()\n",
    "myHighTechPercent = list()\n",
    "for(x in 2:250){\n",
    "    myHighTechPercent = append(myHighTechPercent, percentChange(x-1,x))\n",
    "}\n",
    "#High-Tech Stock Percentage Comparison\n",
    "plot((2:250),myHighTechPercent)"
   ]
  }
 ],
 "metadata": {
  "kernelspec": {
   "display_name": "R",
   "language": "R",
   "name": "ir"
  },
  "language_info": {
   "codemirror_mode": "r",
   "file_extension": ".r",
   "mimetype": "text/x-r-source",
   "name": "R",
   "pygments_lexer": "r",
   "version": "4.1.1"
  }
 },
 "nbformat": 4,
 "nbformat_minor": 5
}
