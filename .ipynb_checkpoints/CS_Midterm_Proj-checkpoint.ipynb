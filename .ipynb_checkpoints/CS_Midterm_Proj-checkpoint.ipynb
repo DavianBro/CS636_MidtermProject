{
 "cells": [
  {
   "cell_type": "code",
   "execution_count": 18,
   "id": "d542de43",
   "metadata": {},
   "outputs": [
    {
     "ename": "ERROR",
     "evalue": "Error in read.table(file = file, header = header, sep = sep, quote = quote, : more columns than column names\n",
     "output_type": "error",
     "traceback": [
      "Error in read.table(file = file, header = header, sep = sep, quote = quote, : more columns than column names\nTraceback:\n",
      "1. read.csv(\"https://finance.yahoo.com/quote/IBM/history?period1=1514764800&period2=1546214400&interval=1d&filter=history&frequency=1d&includeAdjustedClose=true\")",
      "2. read.table(file = file, header = header, sep = sep, quote = quote, \n .     dec = dec, fill = fill, comment.char = comment.char, ...)",
      "3. stop(\"more columns than column names\")"
     ]
    }
   ],
   "source": [
    "#Load Stock Data \n",
    "IBM = read.csv(\"\")\n",
    "MSFT = read.csv(\"\")\n",
    "GOOG = read.csv(\"\")\n",
    "AAPL = read.csv(\"\")\n",
    "AMZN = read.csv(\"\")\n",
    "FB = read.csv(\"\")\n",
    "NFLX = read.csv(\"\")\n",
    "TSLA = read.csv(\"\")\n",
    "ORCL = read.csv(\"\")\n",
    "SAP = read.csv(\"\")\n"
   ]
  },
  {
   "cell_type": "code",
   "execution_count": null,
   "id": "f60cf9e2",
   "metadata": {},
   "outputs": [],
   "source": []
  }
 ],
 "metadata": {
  "kernelspec": {
   "display_name": "R",
   "language": "R",
   "name": "ir"
  },
  "language_info": {
   "codemirror_mode": "r",
   "file_extension": ".r",
   "mimetype": "text/x-r-source",
   "name": "R",
   "pygments_lexer": "r",
   "version": "4.1.1"
  }
 },
 "nbformat": 4,
 "nbformat_minor": 5
}
