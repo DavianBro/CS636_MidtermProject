{
 "cells": [
  {
   "cell_type": "code",
   "execution_count": 1,
   "id": "78ac2832",
   "metadata": {},
   "outputs": [],
   "source": [
    "# Initial Commit For R Project.\n",
    "# R Project\n",
    "#Upload Stock Data"
   ]
  },
  {
   "cell_type": "code",
   "execution_count": 19,
   "id": "5e15c2f5",
   "metadata": {},
   "outputs": [
    {
     "ename": "ERROR",
     "evalue": "Error in read.table(file = \"https://finance.yahoo.com/quote/IBM/history?period1=1514782800&period2=1546232400&interval=1d&filter=history&frequency=1d\", : more columns than column names\n",
     "output_type": "error",
     "traceback": [
      "Error in read.table(file = \"https://finance.yahoo.com/quote/IBM/history?period1=1514782800&period2=1546232400&interval=1d&filter=history&frequency=1d\", : more columns than column names\nTraceback:\n",
      "1. read.table(file = \"https://finance.yahoo.com/quote/IBM/history?period1=1514782800&period2=1546232400&interval=1d&filter=history&frequency=1d\", \n .     sep = \",\", header = T)",
      "2. stop(\"more columns than column names\")"
     ]
    }
   ],
   "source": [
    "ibm=read.table(file=\"https://finance.yahoo.com/quote/IBM/history?period1=1514782800&period2=1546232400&interval=1d&filter=history&frequency=1d\", sep = \",\", header=T)\n",
    "head(ibm)"
   ]
  },
  {
   "cell_type": "code",
   "execution_count": null,
   "id": "7b5a6eaf",
   "metadata": {},
   "outputs": [],
   "source": []
  },
  {
   "cell_type": "code",
   "execution_count": null,
   "id": "28d93085",
   "metadata": {},
   "outputs": [],
   "source": []
  }
 ],
 "metadata": {
  "kernelspec": {
   "display_name": "R",
   "language": "R",
   "name": "ir"
  },
  "language_info": {
   "codemirror_mode": "r",
   "file_extension": ".r",
   "mimetype": "text/x-r-source",
   "name": "R",
   "pygments_lexer": "r",
   "version": "3.6.1"
  }
 },
 "nbformat": 4,
 "nbformat_minor": 5
}
