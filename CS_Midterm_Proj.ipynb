{
 "cells": [
  {
   "cell_type": "code",
   "execution_count": null,
   "id": "3d2493ff",
   "metadata": {},
   "outputs": [],
   "source": [
    "#Davian, Abosede, Oun, and Maryana's team"
   ]
  },
  {
   "cell_type": "code",
   "execution_count": 2,
   "id": "4f6b87f8",
   "metadata": {
    "scrolled": true
   },
   "outputs": [],
   "source": [
    "#Load Library DPLYR\n",
    "library(dplyr)\n",
    "library(ggplot2)\n",
    "library(tidyr)"
   ]
  },
  {
   "cell_type": "code",
   "execution_count": 97,
   "id": "d542de43",
   "metadata": {},
   "outputs": [],
   "source": [
    "#Load Stock Data \n",
    "#CHANGE PATH TO YOUR OWN FOR GITHUB PURPOSES\n",
    "\n",
    "#Retrieve Close & Adj Columns from program\n",
    "IBM = read.csv(\"/Users/davianbrown/Documents/GitHub/CS636_MidtermProject/IBM.csv\")[, c(\"Close\", \"Adj.Close\")]\n",
    "MSFT = read.csv(\"/Users/davianbrown/Documents/GitHub/CS636_MidtermProject/MSFT.csv\") [, c(\"Close\", \"Adj.Close\")]\n",
    "GOOG = read.csv(\"/Users/davianbrown/Documents/GitHub/CS636_MidtermProject/GOOG.csv\") [, c(\"Close\", \"Adj.Close\")]\n",
    "AAPL= read.csv(\"/Users/davianbrown/Documents/GitHub/CS636_MidtermProject/AAPL.csv\")  [, c(\"Close\", \"Adj.Close\")]\n",
    "AMZN = read.csv(\"/Users/davianbrown/Documents/GitHub/CS636_MidtermProject/AMZN.csv\") [, c(\"Close\", \"Adj.Close\")]\n",
    "FB = read.csv(\"/Users/davianbrown/Documents/GitHub/CS636_MidtermProject/FB.csv\")     [, c(\"Close\", \"Adj.Close\")]\n",
    "NFLX = read.csv(\"/Users/davianbrown/Documents/GitHub/CS636_MidtermProject/NFLX.csv\")[, c(\"Close\", \"Adj.Close\")]\n",
    "TSLA = read.csv(\"/Users/davianbrown/Documents/GitHub/CS636_MidtermProject/TSLA.csv\")[, c(\"Close\", \"Adj.Close\")]\n",
    "ORCL = read.csv(\"/Users/davianbrown/Documents/GitHub/CS636_MidtermProject/ORCL.csv\")[, c(\"Close\", \"Adj.Close\")]\n",
    "SAP = read.csv(\"/Users/davianbrown/Documents/GitHub/CS636_MidtermProject/SAP.csv\")[, c(\"Close\", \"Adj.Close\")]\n",
    "#Date ??\n",
    "Date = read.csv(\"/Users/davianbrown/Documents/GitHub/CS636_MidtermProject/IBM.csv\")[, c(\"Date\")]\n"
   ]
  },
  {
   "cell_type": "code",
   "execution_count": 96,
   "id": "203b23df",
   "metadata": {},
   "outputs": [],
   "source": [
    "#Rename Columns to have name function\n",
    "#Rename IBM\n",
    "names(IBM) = c(\"IBM.Close\",\"IBM.Adj.Close\")\n",
    "#Rename Amazon\n",
    "names(AMZN) = c(\"AMZN.Close\",\"AMZN.Adj.Close\")\n",
    "#Rename Microsoft\n",
    "names(MSFT) = c(\"MSFT.Close\",\"MSFT.Adj.Close\")\n",
    "#Rename Google\n",
    "names(GOOG) = c(\"GOOG.Close\",\"GOOG.Adj.Close\")\n",
    "#Rename Apple\n",
    "names(AAPL) = c(\"AAPL.Close\",\"AAPL.Adj.Close\")\n",
    "#Rename Facebook\n",
    "names(FB) = c(\"FB.Close\",\"FB.Adj.Close\")\n",
    "#Rename Netflix\n",
    "names(NFLX) = c(\"NFLX.Close\",\"NFLX.Adj.Close\")\n",
    "#Rename Tesla\n",
    "names(TSLA) = c(\"TSLA.Close\",\"TSLA.Adj.Close\")\n",
    "#Rename Oracle\n",
    "names(ORCL) = c(\"ORCL.Close\",\"ORCL.Adj.Close\")\n",
    "#Rename SAP\n",
    "names(SAP) = c(\"SAP.Close\",\"SAP.Adj.Close\")\n",
    "\n",
    "\n",
    "\n",
    "\n",
    "\n"
   ]
  },
  {
   "cell_type": "markdown",
   "id": "d7cf8f68",
   "metadata": {},
   "source": [
    "<h2> <b> Retrieve the \"Close\" and \"Adj Close\" values for each stock </b> <h2>\n",
    "    You will create a dataframe where there are 20 columns for the 10 stocks, each row is the \"Close\" and \"Adj Close\" prices for the 10 stocks on each day, in the order of the business days in 2018. Assume all buy/sell on the \"Close\" prices and there is no transaction cost.\n"
   ]
  },
  {
   "cell_type": "code",
   "execution_count": 94,
   "id": "7030321c",
   "metadata": {},
   "outputs": [],
   "source": [
    "#Add all Stocks to Dataframe\n",
    "market = as.data.frame(cbind(Date, IBM, AMZN,MSFT,GOOG,AAPL, FB, NFLX, TSLA,ORCL, SAP))"
   ]
  },
  {
   "cell_type": "code",
   "execution_count": null,
   "id": "c1b9bb39",
   "metadata": {},
   "outputs": [],
   "source": [
    "head(market)"
   ]
  },
  {
   "cell_type": "markdown",
   "id": "df11b682",
   "metadata": {},
   "source": [
    "<h2> <b> You start to manage 5 million dollars fund on Jan 02, 2018 </b> </h2>\n",
    "<br></br>\n",
    "    You have a strategy to manage the fund."
   ]
  },
  {
   "cell_type": "code",
   "execution_count": 102,
   "id": "48d9d5f6",
   "metadata": {},
   "outputs": [
    {
     "data": {
      "text/html": [
       "'IBM.Close'"
      ],
      "text/latex": [
       "'IBM.Close'"
      ],
      "text/markdown": [
       "'IBM.Close'"
      ],
      "text/plain": [
       "[1] \"IBM.Close\""
      ]
     },
     "metadata": {},
     "output_type": "display_data"
    }
   ],
   "source": [
    "# Function to get the Trading Day stock value\n",
    "ValueofStock = function(Stock,Date){  #Stock Value = SV\n",
    "    Stock = paste(stock, sep=\"\", \".Close\" )\n",
    "    StockPrice = market[[Stock]][Date]\n",
    "    return(StockPrice)\n",
    "   }\n"
   ]
  },
  {
   "cell_type": "code",
   "execution_count": 100,
   "id": "8dd0102f",
   "metadata": {},
   "outputs": [],
   "source": [
    "# This Function enables traders to purchase Stocks.\n",
    "purchaseStocks = function(df) { #buyStock\n",
    "       \n",
    "    level = data.frame(stock=df[[\"stock\"]], balance = 0, cash = 0) \n",
    "    \n",
    "    stock = paste(level[[\"stock\"]] , \".Close\", sep=\"\")\n",
    "    \n",
    "     day = df[[\"day\"]]\n",
    "    \n",
    "    StockPrice = market[[stock]][day]\n",
    "    \n",
    "    StockPurchasedAmount = df[[\"cash\"]] %% StockPrice\n",
    "    \n",
    "    StockPurchasedAmount = level$balance\n",
    "    \n",
    "    cashRemainder = df[[\"cash\"]] - (StockPurchasedAmount * StockPrice)\n",
    "    \n",
    "    cashRemainder = level$balance\n",
    "    \n",
    "    return(level)\n",
    "}\n"
   ]
  },
  {
   "cell_type": "code",
   "execution_count": 101,
   "id": "f50aa57f",
   "metadata": {},
   "outputs": [],
   "source": [
    "#Function to Calculate MTM\n",
    "mtm = function(date,cash, stocks, shares){ #mtmvalue\n",
    "\n",
    "result = 0\n",
    "    \n",
    "for (y in 1:length(stocks)) {\n",
    "    value = stockValue(stocks[y], date) * as.double(shares[y])\n",
    "        result = result + value\n",
    "    }\n",
    "    \n",
    "    return(result)\n",
    "}\n",
    "\n"
   ]
  },
  {
   "cell_type": "code",
   "execution_count": null,
   "id": "586360c1",
   "metadata": {},
   "outputs": [],
   "source": [
    "#This Function Finds The Stock that has performed the best and has the highest surge\n",
    "\n",
    "######****** LEFT OFF EDITING HERE*******########\n",
    "surgedMost = function(today, interval){\n",
    "    mydata = market\n",
    "    mydata = select(mydata,ends_with(\"Adj.Close\"))\n",
    "    surgedMost = mydata %>% slice(today-interval,today) %>%\n",
    "    mutate(IBM = (IBM.Adj.Close - lag(IBM.Adj.Close))/lag(IBM.Adj.Close) * 100) %>%\n",
    "    mutate(AMZN = (AMZN.Adj.Close - lag(AMZN.Adj.Close))/lag(AMZN.Adj.Close) * 100) %>%\n",
    "    mutate(AAPL = (AAPL.Adj.Close - lag(AAPL.Adj.Close))/lag(AAPL.Adj.Close) * 100) %>%\n",
    "    mutate(FB = (FB.Adj.Close - lag(FB.Adj.Close))/lag(FB.Adj.Close) * 100) %>%\n",
    "    mutate(GOOG = (GOOG.Adj.Close - lag(GOOG.Adj.Close))/lag(GOOG.Adj.Close) * 100) %>%\n",
    "    mutate(MSFT = (MSFT.Adj.Close - lag(MSFT.Adj.Close))/lag(MSFT.Adj.Close) * 100) %>%\n",
    "    mutate(NFLX = (NFLX.Adj.Close - lag(NFLX.Adj.Close))/lag(NFLX.Adj.Close) * 100) %>%\n",
    "    mutate(ORCL = (ORCL.Adj.Close - lag(ORCL.Adj.Close))/lag(ORCL.Adj.Close) * 100) %>%\n",
    "    mutate(SAP = (SAP.Adj.Close - lag(SAP.Adj.Close))/lag(SAP.Adj.Close) * 100) %>%\n",
    "    mutate(TSLA = (TSLA.Adj.Close - lag(TSLA.Adj.Close))/lag(TSLA.Adj.Close) * 100) %>%\n",
    "    select(-contains(\".Adj.Close\")) %>%\n",
    "    slice(2)\n",
    "    allCols = sort(surgedMost[1,1:10])\n",
    "    cols = c(colnames(allCols))\n",
    "    return(cols[6:10])\n",
    "}\n"
   ]
  },
  {
   "cell_type": "code",
   "execution_count": null,
   "id": "3f13035b",
   "metadata": {},
   "outputs": [],
   "source": [
    "#function to find dropped the most\n",
    "droppedMost = function(today, interval){\n",
    "    mydata = market\n",
    "    mydata = select(mydata,ends_with(\"Adj.Close\"))\n",
    "    droppedmost = mydata %>% slice(today-interval,today) %>%\n",
    "    mutate(IBM = (IBM.Adj.Close - lag(IBM.Adj.Close))/lag(IBM.Adj.Close) * 100) %>%\n",
    "    mutate(AMZN = (AMZN.Adj.Close - lag(AMZN.Adj.Close))/lag(AMZN.Adj.Close) * 100) %>%\n",
    "    mutate(AAPL = (AAPL.Adj.Close - lag(AAPL.Adj.Close))/lag(AAPL.Adj.Close) * 100) %>%\n",
    "    mutate(FB = (FB.Adj.Close - lag(FB.Adj.Close))/lag(FB.Adj.Close) * 100) %>%\n",
    "    mutate(GOOG = (GOOG.Adj.Close - lag(GOOG.Adj.Close))/lag(GOOG.Adj.Close) * 100) %>%\n",
    "    mutate(MSFT = (MSFT.Adj.Close - lag(MSFT.Adj.Close))/lag(MSFT.Adj.Close) * 100) %>%\n",
    "    mutate(NFLX = (NFLX.Adj.Close - lag(NFLX.Adj.Close))/lag(NFLX.Adj.Close) * 100) %>%\n",
    "    mutate(ORCL = (ORCL.Adj.Close - lag(ORCL.Adj.Close))/lag(ORCL.Adj.Close) * 100) %>%\n",
    "    mutate(SAP = (SAP.Adj.Close - lag(SAP.Adj.Close))/lag(SAP.Adj.Close) * 100) %>%\n",
    "    mutate(TSLA = (TSLA.Adj.Close - lag(TSLA.Adj.Close))/lag(TSLA.Adj.Close) * 100) %>%\n",
    "    select(-contains(\".Adj.Close\")) %>%\n",
    "    slice(2)\n",
    "    allCols = sort(droppedmost[1,1:10])\n",
    "    cols = c(colnames(allCols))\n",
    "    return(cols[1:5])\n",
    "    }"
   ]
  },
  {
   "cell_type": "code",
   "execution_count": null,
   "id": "7c75e634",
   "metadata": {},
   "outputs": [],
   "source": [
    "#function to calculate percent change\n",
    "percentChange = function(prev,curr){\n",
    "    p = curr - prev\n",
    "    p = p/prev\n",
    "    return(p*100)\n",
    "}\n"
   ]
  },
  {
   "cell_type": "code",
   "execution_count": 78,
   "id": "235a9a12",
   "metadata": {},
   "outputs": [
    {
     "ename": "ERROR",
     "evalue": "Error in mtmValue(today, totalCash, stocks, shares): could not find function \"mtmValue\"\n",
     "output_type": "error",
     "traceback": [
      "Error in mtmValue(today, totalCash, stocks, shares): could not find function \"mtmValue\"\nTraceback:\n"
     ]
    }
   ],
   "source": [
    "# initialize variables\n"
   ]
  },
  {
   "cell_type": "code",
   "execution_count": null,
   "id": "b7cbe88e",
   "metadata": {},
   "outputs": [],
   "source": []
  },
  {
   "cell_type": "code",
   "execution_count": null,
   "id": "9a1cc284",
   "metadata": {},
   "outputs": [],
   "source": []
  }
 ],
 "metadata": {
  "kernelspec": {
   "display_name": "R",
   "language": "R",
   "name": "ir"
  },
  "language_info": {
   "codemirror_mode": "r",
   "file_extension": ".r",
   "mimetype": "text/x-r-source",
   "name": "R",
   "pygments_lexer": "r",
   "version": "4.1.1"
  }
 },
 "nbformat": 4,
 "nbformat_minor": 5
}
