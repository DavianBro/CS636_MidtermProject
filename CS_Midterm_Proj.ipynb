{
 "cells": [
  {
   "cell_type": "code",
   "execution_count": 18,
   "id": "d542de43",
   "metadata": {},
   "outputs": [
    {
     "ename": "ERROR",
     "evalue": "Error in read.table(file = file, header = header, sep = sep, quote = quote, : more columns than column names\n",
     "output_type": "error",
     "traceback": [
      "Error in read.table(file = file, header = header, sep = sep, quote = quote, : more columns than column names\nTraceback:\n",
      "1. read.csv(\"https://finance.yahoo.com/quote/IBM/history?period1=1514764800&period2=1546214400&interval=1d&filter=history&frequency=1d&includeAdjustedClose=true\")",
      "2. read.table(file = file, header = header, sep = sep, quote = quote, \n .     dec = dec, fill = fill, comment.char = comment.char, ...)",
      "3. stop(\"more columns than column names\")"
     ]
    }
   ],
   "source": [
    "#Load Stock Data \n",
    "IBM = read.csv(\"IBM.csv\")\n",
    "MSFT = read.csv(\"\")\n",
    "GOOG = read.csv(\"\")\n",
    "AAPL = read.csv(\"\")\n",
    "AMZN = read.csv(\"\")\n",
    "FB = read.csv(\"\")\n",
    "NFLX = read.csv(\"\")\n",
    "TSLA = read.csv(\"\")\n",
    "ORCL = read.csv(\"\")\n",
    "SAP = read.csv(\"\")\n"
   ]
  },
  {
   "cell_type": "code",
   "execution_count": 16,
   "id": "f60cf9e2",
   "metadata": {},
   "outputs": [
    {
     "name": "stderr",
     "output_type": "stream",
     "text": [
      "Warning message in file(file, \"rt\"):\n",
      "“cannot open file '/Users/maryanastef/.Trash/CS636_MidtermProject 10.15.21 AM/IBM.csv': No such file or directory”\n"
     ]
    },
    {
     "ename": "ERROR",
     "evalue": "Error in file(file, \"rt\"): cannot open the connection\n",
     "output_type": "error",
     "traceback": [
      "Error in file(file, \"rt\"): cannot open the connection\nTraceback:\n",
      "1. read.csv(file = \"/Users/maryanastef/.Trash/CS636_MidtermProject 10.15.21 AM/IBM.csv\")",
      "2. read.table(file = file, header = header, sep = sep, quote = quote, \n .     dec = dec, fill = fill, comment.char = comment.char, ...)",
      "3. file(file, \"rt\")"
     ]
    }
   ],
   "source": []
  },
  {
   "cell_type": "code",
   "execution_count": null,
   "id": "7030321c",
   "metadata": {},
   "outputs": [],
   "source": []
  },
  {
   "cell_type": "code",
   "execution_count": null,
   "id": "adfaaf46",
   "metadata": {},
   "outputs": [],
   "source": []
  }
 ],
 "metadata": {
  "kernelspec": {
   "display_name": "R",
   "language": "R",
   "name": "ir"
  },
  "language_info": {
   "codemirror_mode": "r",
   "file_extension": ".r",
   "mimetype": "text/x-r-source",
   "name": "R",
   "pygments_lexer": "r",
   "version": "3.6.1"
  }
 },
 "nbformat": 4,
 "nbformat_minor": 5
}
