{
 "cells": [
  {
   "cell_type": "code",
   "execution_count": null,
   "id": "7040342d",
   "metadata": {},
   "outputs": [],
   "source": [
    "#Davian, Abosede, Oun, and Maryana's team"
   ]
  },
  {
   "cell_type": "code",
   "execution_count": 45,
   "id": "4f6b87f8",
   "metadata": {
    "scrolled": true
   },
   "outputs": [
    {
     "ename": "ERROR",
     "evalue": "Error in library(ggplot22): there is no package called ‘ggplot22’\n",
     "output_type": "error",
     "traceback": [
      "Error in library(ggplot22): there is no package called ‘ggplot22’\nTraceback:\n",
      "1. library(ggplot22)"
     ]
    }
   ],
   "source": [
    "#Load Library DPLYR\n",
    "library(dplyr)\n",
    "library(ggplot22)\n",
    "library(tidyr)\n"
   ]
  },
  {
   "cell_type": "code",
   "execution_count": 35,
   "id": "d542de43",
   "metadata": {},
   "outputs": [],
   "source": [
    "#Load Stock Data \n",
    "# CHANGE PATH TO YOUR OWN.\n",
    "IBM = read.csv(\"/Users/davianbrown/Documents/GitHub/CS636_MidtermProject/IBM.csv\")\n",
    "MSFT = read.csv(\"/Users/davianbrown/Documents/GitHub/CS636_MidtermProject/MSFT.csv\")\n",
    "GOOG = read.csv(\"/Users/davianbrown/Documents/GitHub/CS636_MidtermProject/GOOG.csv\")\n",
    "AAPL= read.csv(\"/Users/davianbrown/Documents/GitHub/CS636_MidtermProject/AAPL.csv\")\n",
    "AMZN = read.csv(\"/Users/davianbrown/Documents/GitHub/CS636_MidtermProject/AMZN.csv\")\n",
    "FB = read.csv(\"/Users/davianbrown/Documents/GitHub/CS636_MidtermProject/FB.csv\")\n",
    "NFLX = read.csv(\"/Users/davianbrown/Documents/GitHub/CS636_MidtermProject/NFLX.csv\")\n",
    "TSLA = read.csv(\"/Users/davianbrown/Documents/GitHub/CS636_MidtermProject/TSLA.csv\")\n",
    "ORCL = read.csv(\"/Users/davianbrown/Documents/GitHub/CS636_MidtermProject/ORCL.csv\")\n",
    "SAP = read.csv(\"/Users/davianbrown/Documents/GitHub/CS636_MidtermProject/SAP.csv\")\n",
    "\n"
   ]
  },
  {
   "cell_type": "markdown",
   "id": "87f03c3e",
   "metadata": {},
   "source": [
    "<h2> <b> Retrieve the \"Close\" and \"Adj Close\" values for each stock </b> <h2>"
   ]
  },
  {
   "cell_type": "code",
   "execution_count": null,
   "id": "7030321c",
   "metadata": {},
   "outputs": [],
   "source": []
  },
  {
   "cell_type": "markdown",
   "id": "6670fd0f",
   "metadata": {},
   "source": [
    "<h2> <b> You start to manage 5 million dollars fund on Jan 02, 2018 </b> </h2>\n",
    "<br></br>\n",
    "    You have a strategy to manage the fund."
   ]
  },
  {
   "cell_type": "code",
   "execution_count": null,
   "id": "0cc395a8",
   "metadata": {},
   "outputs": [],
   "source": []
  },
  {
   "cell_type": "code",
   "execution_count": null,
   "id": "f91c34e2",
   "metadata": {},
   "outputs": [],
   "source": []
  },
  {
   "cell_type": "markdown",
   "id": "e7b75630",
   "metadata": {},
   "source": [
    "<b><h2> \n",
    "  3.  Corporations generally issue stock dividends on some days. The total dividend you get on such a day is the stock dividend times your shares if you have shares of this stock on the dividend day. If you buy shares on the dividend day, these bought shares are not qualified to get dividend. If you sell shares on the dividend day, the sold shares are qualified to get dividend. For example, on 2/8/2018, IBM issued 1.5 dividend per share. In your cash account, you will automatically get\n",
    "    \n",
    "    1.5 x (Your IBM SHares on 2/8/2018\n",
    "  \n",
    " </h2></b>"
   ]
  },
  {
   "cell_type": "code",
   "execution_count": null,
   "id": "2fae6198",
   "metadata": {},
   "outputs": [],
   "source": []
  }
 ],
 "metadata": {
  "kernelspec": {
   "display_name": "R",
   "language": "R",
   "name": "ir"
  },
  "language_info": {
   "codemirror_mode": "r",
   "file_extension": ".r",
   "mimetype": "text/x-r-source",
   "name": "R",
   "pygments_lexer": "r",
   "version": "4.1.1"
  }
 },
 "nbformat": 4,
 "nbformat_minor": 5
}
