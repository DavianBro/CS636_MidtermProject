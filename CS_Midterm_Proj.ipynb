{
 "cells": [
  {
   "cell_type": "code",
   "execution_count": 2,
   "id": "4f6b87f8",
   "metadata": {},
   "outputs": [
    {
     "name": "stderr",
     "output_type": "stream",
     "text": [
      "\n",
      "Attaching package: ‘dplyr’\n",
      "\n",
      "\n",
      "The following objects are masked from ‘package:stats’:\n",
      "\n",
      "    filter, lag\n",
      "\n",
      "\n",
      "The following objects are masked from ‘package:base’:\n",
      "\n",
      "    intersect, setdiff, setequal, union\n",
      "\n",
      "\n"
     ]
    }
   ],
   "source": [
    "#Load Library DPLYR\n",
    "library(dplyr)"
   ]
  },
  {
   "cell_type": "code",
   "execution_count": 9,
   "id": "d542de43",
   "metadata": {},
   "outputs": [],
   "source": [
    "#Load Stock Data \n",
    "# CHANGE PATH TO YOUR OWN.\n",
    "IBM = read.csv(\"/Users/davianbrown/Documents/GitHub/CS636_MidtermProject/IBM.csv\")\n",
    "MSFT = read.csv(\"/Users/davianbrown/Documents/GitHub/CS636_MidtermProject/MSFT.csv\")\n",
    "GOOG = read.csv(\"/Users/davianbrown/Documents/GitHub/CS636_MidtermProject/GOOG.csv\")\n",
    "AAPL = read.csv(\"/Users/davianbrown/Documents/GitHub/CS636_MidtermProject/AAPL.csv\")\n",
    "AMZN = read.csv(\"/Users/davianbrown/Documents/GitHub/CS636_MidtermProject/AMZN.csv\")\n",
    "FB = read.csv(\"/Users/davianbrown/Documents/GitHub/CS636_MidtermProject/FB.csv\")\n",
    "NFLX = read.csv(\"/Users/davianbrown/Documents/GitHub/CS636_MidtermProject/NFLX.csv\")\n",
    "TSLA = read.csv(\"/Users/davianbrown/Documents/GitHub/CS636_MidtermProject/TSLA.csv\")\n",
    "ORCL = read.csv(\"/Users/davianbrown/Documents/GitHub/CS636_MidtermProject/ORCL.csv\")\n",
    "SAP = read.csv(\"/Users/davianbrown/Documents/GitHub/CS636_MidtermProject/SAP.csv\")\n"
   ]
  },
  {
   "cell_type": "code",
   "execution_count": 11,
   "id": "f60cf9e2",
   "metadata": {},
   "outputs": [],
   "source": [
    "# Retrieve the \"Close\" and \"Adj Close\" values for each stock\n",
    "\n",
    "# You will create a dataframe where there are 20 columns for the 10 stocks, each row is the \n",
    "# \"Close\" and \"Adj Close\" prices for the 10 stocks on each day, in the order of the business days in 2018. \n",
    "# Assume all buy/sell on the \"Close\" prices and there is no transaction cost.\n",
    "closeValues = (cbind(Date=IBM$Date,IBMclose=IBM$Close,ibmadjclose=IBM$Adj.Close,\n",
    "                              appleclose=AAPL$Close,\n",
    "                              appleadjclose=AAPL$Adj.Close,amznclose=AMZN$Close, amznadjclose=AMZN$Adj.Close, \n",
    "                              fbclose=FB$Close,fbadjclose=FB$Adj.Close,\n",
    "                              googleclose=GOOG$Close,googleadjclose=GOOG$Adj.Close,\n",
    "                              msftclose=MSFT$Close,msftadjclose=MSFT$Adj.Close,\n",
    "                              nflxclose=NFLX$Close,nflxadjclose=NFLX$Adj.Close,\n",
    "                              orclclose=ORCL$Close,orcladjclose=ORCL$Adj.Close,sapclose=SAP$Close,\n",
    "                              sapadjclose=SAP$Adj.Close,tslaclose=TSLA$Close,tslaadjclose=TSLA$Adj.Close))"
   ]
  },
  {
   "cell_type": "code",
   "execution_count": null,
   "id": "7030321c",
   "metadata": {},
   "outputs": [],
   "source": [
    "#Call Head of Values\n",
    "head(closeValues)"
   ]
  },
  {
   "cell_type": "code",
   "execution_count": null,
   "id": "adfaaf46",
   "metadata": {},
   "outputs": [],
   "source": []
  }
 ],
 "metadata": {
  "kernelspec": {
   "display_name": "R",
   "language": "R",
   "name": "ir"
  },
  "language_info": {
   "codemirror_mode": "r",
   "file_extension": ".r",
   "mimetype": "text/x-r-source",
   "name": "R",
   "pygments_lexer": "r",
   "version": "4.1.1"
  }
 },
 "nbformat": 4,
 "nbformat_minor": 5
}
