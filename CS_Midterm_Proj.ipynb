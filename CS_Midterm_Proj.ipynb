{
 "cells": [
  {
   "cell_type": "code",
   "execution_count": 18,
   "id": "d542de43",
   "metadata": {},
   "outputs": [
    {
     "ename": "ERROR",
     "evalue": "Error in read.table(file = file, header = header, sep = sep, quote = quote, : more columns than column names\n",
     "output_type": "error",
     "traceback": [
      "Error in read.table(file = file, header = header, sep = sep, quote = quote, : more columns than column names\nTraceback:\n",
      "1. read.csv(\"https://finance.yahoo.com/quote/IBM/history?period1=1514764800&period2=1546214400&interval=1d&filter=history&frequency=1d&includeAdjustedClose=true\")",
      "2. read.table(file = file, header = header, sep = sep, quote = quote, \n .     dec = dec, fill = fill, comment.char = comment.char, ...)",
      "3. stop(\"more columns than column names\")"
     ]
    }
   ],
   "source": [
    "#Load Stock Data \n",
    "IBM = read.csv(\"IBM.csv\")\n",
    "MSFT = read.csv(\"\")\n",
    "GOOG = read.csv(\"\")\n",
    "AAPL = read.csv(\"\")\n",
    "AMZN = read.csv(\"\")\n",
    "FB = read.csv(\"\")\n",
    "NFLX = read.csv(\"\")\n",
    "TSLA = read.csv(\"\")\n",
    "ORCL = read.csv(\"\")\n",
    "SAP = read.csv(\"\")\n"
   ]
  },
  {
   "cell_type": "code",
   "execution_count": 7,
   "id": "f60cf9e2",
   "metadata": {},
   "outputs": [
    {
     "name": "stderr",
     "output_type": "stream",
     "text": [
      "Warning message in file(file, \"rt\"):\n",
      "“cannot open file 'IBM.csv': No such file or directory”\n"
     ]
    },
    {
     "ename": "ERROR",
     "evalue": "Error in file(file, \"rt\"): cannot open the connection\n",
     "output_type": "error",
     "traceback": [
      "Error in file(file, \"rt\"): cannot open the connection\nTraceback:\n",
      "1. read.table(file = \"IBM.csv\")",
      "2. file(file, \"rt\")"
     ]
    }
   ],
   "source": [
    "IBM = read.table(file=\"IBM.csv\")\n",
    "IBM"
   ]
  },
  {
   "cell_type": "code",
   "execution_count": 10,
   "id": "7030321c",
   "metadata": {},
   "outputs": [
    {
     "data": {
      "text/html": [
       "'/Users/maryanastef/.Trash/CS636_MidtermProject 10.15.21 AM'"
      ],
      "text/latex": [
       "'/Users/maryanastef/.Trash/CS636\\_MidtermProject 10.15.21 AM'"
      ],
      "text/markdown": [
       "'/Users/maryanastef/.Trash/CS636_MidtermProject 10.15.21 AM'"
      ],
      "text/plain": [
       "[1] \"/Users/maryanastef/.Trash/CS636_MidtermProject 10.15.21 AM\""
      ]
     },
     "metadata": {},
     "output_type": "display_data"
    },
    {
     "ename": "ERROR",
     "evalue": "Error in setwd(\"/Users/maryanasted/Documents/GitHub/CS636_MidtermProject\"): cannot change working directory\n",
     "output_type": "error",
     "traceback": [
      "Error in setwd(\"/Users/maryanasted/Documents/GitHub/CS636_MidtermProject\"): cannot change working directory\nTraceback:\n",
      "1. setwd(\"/Users/maryanasted/Documents/GitHub/CS636_MidtermProject\")"
     ]
    }
   ],
   "source": [
    "getwd()\n",
    "\n",
    "setwd(\"/Users/maryanasted/Documents/GitHub/CS636_MidtermProject\")"
   ]
  },
  {
   "cell_type": "code",
   "execution_count": null,
   "id": "adfaaf46",
   "metadata": {},
   "outputs": [],
   "source": []
  }
 ],
 "metadata": {
  "kernelspec": {
   "display_name": "R",
   "language": "R",
   "name": "ir"
  },
  "language_info": {
   "codemirror_mode": "r",
   "file_extension": ".r",
   "mimetype": "text/x-r-source",
   "name": "R",
   "pygments_lexer": "r",
   "version": "3.6.1"
  }
 },
 "nbformat": 4,
 "nbformat_minor": 5
}
