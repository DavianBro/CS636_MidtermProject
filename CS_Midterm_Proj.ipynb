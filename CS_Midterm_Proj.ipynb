{
 "cells": [
  {
   "cell_type": "code",
   "execution_count": null,
   "id": "3d2493ff",
   "metadata": {},
   "outputs": [],
   "source": [
    "#Davian, Abosede, Oun, and Maryana's team"
   ]
  },
  {
   "cell_type": "code",
   "execution_count": 2,
   "id": "4f6b87f8",
   "metadata": {
    "scrolled": true
   },
   "outputs": [],
   "source": [
    "#Load Library DPLYR\n",
    "library(dplyr)\n",
    "library(ggplot2)\n",
    "library(tidyr)"
   ]
  },
  {
   "cell_type": "code",
   "execution_count": 46,
   "id": "d542de43",
   "metadata": {},
   "outputs": [],
   "source": [
    "#Load Stock Data \n",
    "# CHANGE PATH TO YOUR OWN.\n",
    "\n",
    "#Retrieve Close & Adj Columns from program\n",
    "IBM = read.csv(\"/Users/davianbrown/Documents/GitHub/CS636_MidtermProject/IBM.csv\")[, c(\"Close\", \"Adj.Close\")]\n",
    "MSFT = read.csv(\"/Users/davianbrown/Documents/GitHub/CS636_MidtermProject/MSFT.csv\") [, c(\"Close\", \"Adj.Close\")]\n",
    "GOOG = read.csv(\"/Users/davianbrown/Documents/GitHub/CS636_MidtermProject/GOOG.csv\") [, c(\"Close\", \"Adj.Close\")]\n",
    "AAPL= read.csv(\"/Users/davianbrown/Documents/GitHub/CS636_MidtermProject/AAPL.csv\")  [, c(\"Close\", \"Adj.Close\")]\n",
    "AMZN = read.csv(\"/Users/davianbrown/Documents/GitHub/CS636_MidtermProject/AMZN.csv\") [, c(\"Close\", \"Adj.Close\")]\n",
    "FB = read.csv(\"/Users/davianbrown/Documents/GitHub/CS636_MidtermProject/FB.csv\")     [, c(\"Close\", \"Adj.Close\")]\n",
    "NFLX = read.csv(\"/Users/davianbrown/Documents/GitHub/CS636_MidtermProject/NFLX.csv\")[, c(\"Close\", \"Adj.Close\")]\n",
    "TSLA = read.csv(\"/Users/davianbrown/Documents/GitHub/CS636_MidtermProject/TSLA.csv\")[, c(\"Close\", \"Adj.Close\")]\n",
    "ORCL = read.csv(\"/Users/davianbrown/Documents/GitHub/CS636_MidtermProject/ORCL.csv\")[, c(\"Close\", \"Adj.Close\")]\n",
    "SAP = read.csv(\"/Users/davianbrown/Documents/GitHub/CS636_MidtermProject/SAP.csv\")[, c(\"Close\", \"Adj.Close\")]\n",
    "#Date ??\n",
    "\n",
    "Date = read.csv(\"/Users/davianbrown/Documents/GitHub/CS636_MidtermProject/IBM.csv\")[, c(\"Date\")]\n"
   ]
  },
  {
   "cell_type": "code",
   "execution_count": 52,
   "id": "ecaaaae8",
   "metadata": {},
   "outputs": [
    {
     "ename": "ERROR",
     "evalue": "Error in FUN(left, right): non-numeric argument to binary operator\n",
     "output_type": "error",
     "traceback": [
      "Error in FUN(left, right): non-numeric argument to binary operator\nTraceback:\n",
      "1. DataName(IBM)",
      "2. paste(x + \".Close\", \"AAPL.Adj.Close\")   # at line 5 of file <text>",
      "3. Ops.data.frame(x, \".Close\")",
      "4. eval(f)",
      "5. eval(f)"
     ]
    }
   ],
   "source": [
    "#Rename Columns to have name function and put them in a data frame\n",
    "\n",
    "DataName = function(x) {\n",
    "    \n",
    "    Close = paste()\n",
    "    names(x) <- c()\n",
    "    \n",
    "    \n",
    "    \n",
    "}\n",
    "\n",
    "DataName(IBM)\n",
    "\n",
    "\n",
    "\n",
    "\n",
    "#Market = as.data.frame(cbind(names(GOOG) <- c(\"GOOG.Close\",\"GOOG.Adj.Close\")))\n"
   ]
  },
  {
   "cell_type": "markdown",
   "id": "d7cf8f68",
   "metadata": {},
   "source": [
    "<h2> <b> Retrieve the \"Close\" and \"Adj Close\" values for each stock </b> <h2>"
   ]
  },
  {
   "cell_type": "code",
   "execution_count": 32,
   "id": "7030321c",
   "metadata": {},
   "outputs": [
    {
     "name": "stderr",
     "output_type": "stream",
     "text": [
      "Warning message in rbind(parts$upper, ellip_v, parts$lower, deparse.level = 0L):\n",
      "“number of columns of result is not a multiple of vector length (arg 2)”\n"
     ]
    },
    {
     "data": {
      "text/html": [],
      "text/latex": [],
      "text/markdown": [],
      "text/plain": [
       "   \n",
       "1  \n",
       "2  \n",
       "3  \n",
       "4  \n",
       "5  \n",
       "6  \n",
       "7  \n",
       "8  \n",
       "9  \n",
       "10 \n",
       "11 \n",
       "12 \n",
       "13 \n",
       "14 \n",
       "15 \n",
       "16 \n",
       "17 \n",
       "18 \n",
       "19 \n",
       "20 \n",
       "21 \n",
       "22 \n",
       "23 \n",
       "24 \n",
       "25 \n",
       "26 \n",
       "27 \n",
       "28 \n",
       "29 \n",
       "30 \n",
       "⋮  \n",
       "221\n",
       "222\n",
       "223\n",
       "224\n",
       "225\n",
       "226\n",
       "227\n",
       "228\n",
       "229\n",
       "230\n",
       "231\n",
       "232\n",
       "233\n",
       "234\n",
       "235\n",
       "236\n",
       "237\n",
       "238\n",
       "239\n",
       "240\n",
       "241\n",
       "242\n",
       "243\n",
       "244\n",
       "245\n",
       "246\n",
       "247\n",
       "248\n",
       "249\n",
       "250"
      ]
     },
     "metadata": {},
     "output_type": "display_data"
    }
   ],
   "source": [
    "Date"
   ]
  },
  {
   "cell_type": "markdown",
   "id": "df11b682",
   "metadata": {},
   "source": [
    "<h2> <b> You start to manage 5 million dollars fund on Jan 02, 2018 </b> </h2>\n",
    "<br></br>\n",
    "    You have a strategy to manage the fund."
   ]
  },
  {
   "cell_type": "code",
   "execution_count": null,
   "id": "48d9d5f6",
   "metadata": {},
   "outputs": [],
   "source": []
  },
  {
   "cell_type": "code",
   "execution_count": null,
   "id": "8dd0102f",
   "metadata": {},
   "outputs": [],
   "source": []
  },
  {
   "cell_type": "markdown",
   "id": "e431997f",
   "metadata": {},
   "source": [
    "<b><h2> \n",
    "  3.  Corporations generally issue stock dividends on some days. The total dividend you get on such a day is the stock dividend times your shares if you have shares of this stock on the dividend day. If you buy shares on the dividend day, these bought shares are not qualified to get dividend. If you sell shares on the dividend day, the sold shares are qualified to get dividend. For example, on 2/8/2018, IBM issued 1.5 dividend per share. In your cash account, you will automatically get\n",
    "    \n",
    "    1.5 x (Your IBM SHares on 2/8/2018\n",
    "  \n",
    " </h2></b>"
   ]
  },
  {
   "cell_type": "code",
   "execution_count": null,
   "id": "3f13035b",
   "metadata": {},
   "outputs": [],
   "source": []
  }
 ],
 "metadata": {
  "kernelspec": {
   "display_name": "R",
   "language": "R",
   "name": "ir"
  },
  "language_info": {
   "codemirror_mode": "r",
   "file_extension": ".r",
   "mimetype": "text/x-r-source",
   "name": "R",
   "pygments_lexer": "r",
   "version": "4.1.1"
  }
 },
 "nbformat": 4,
 "nbformat_minor": 5
}
