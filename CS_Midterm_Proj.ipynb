{
 "cells": [
  {
   "cell_type": "code",
   "execution_count": null,
   "id": "3d2493ff",
   "metadata": {},
   "outputs": [],
   "source": [
    "#Davian, Abosede, Oun, and Maryana's team"
   ]
  },
  {
   "cell_type": "code",
   "execution_count": 3,
   "id": "4f6b87f8",
   "metadata": {
    "scrolled": true
   },
   "outputs": [
    {
     "name": "stderr",
     "output_type": "stream",
     "text": [
      "\n",
      "Attaching package: ‘dplyr’\n",
      "\n",
      "\n",
      "The following objects are masked from ‘package:stats’:\n",
      "\n",
      "    filter, lag\n",
      "\n",
      "\n",
      "The following objects are masked from ‘package:base’:\n",
      "\n",
      "    intersect, setdiff, setequal, union\n",
      "\n",
      "\n"
     ]
    }
   ],
   "source": [
    "#Load Library DPLYR\n",
    "library(dplyr)\n",
    "library(ggplot2)\n",
    "library(tidyr)"
   ]
  },
  {
   "cell_type": "code",
   "execution_count": 27,
   "id": "d542de43",
   "metadata": {},
   "outputs": [],
   "source": [
    "#Load Stock Data \n",
    "#CHANGE PATH TO YOUR OWN FOR GITHUB PURPOSES\n",
    "\n",
    "#Retrieve Close & Adj Columns from program\n",
    "IBM = read.csv(\"/Users/davianbrown/Documents/GitHub/CS636_MidtermProject/IBM.csv\")[, c(\"Close\", \"Adj.Close\")]\n",
    "MSFT = read.csv(\"/Users/davianbrown/Documents/GitHub/CS636_MidtermProject/MSFT.csv\") [, c(\"Close\", \"Adj.Close\")]\n",
    "GOOG = read.csv(\"/Users/davianbrown/Documents/GitHub/CS636_MidtermProject/GOOG.csv\") [, c(\"Close\", \"Adj.Close\")]\n",
    "AAPL= read.csv(\"/Users/davianbrown/Documents/GitHub/CS636_MidtermProject/AAPL.csv\")  [, c(\"Close\", \"Adj.Close\")]\n",
    "AMZN = read.csv(\"/Users/davianbrown/Documents/GitHub/CS636_MidtermProject/AMZN.csv\") [, c(\"Close\", \"Adj.Close\")]\n",
    "FB = read.csv(\"/Users/davianbrown/Documents/GitHub/CS636_MidtermProject/FB.csv\")     [, c(\"Close\", \"Adj.Close\")]\n",
    "NFLX = read.csv(\"/Users/davianbrown/Documents/GitHub/CS636_MidtermProject/NFLX.csv\")[, c(\"Close\", \"Adj.Close\")]\n",
    "TSLA = read.csv(\"/Users/davianbrown/Documents/GitHub/CS636_MidtermProject/TSLA.csv\")[, c(\"Close\", \"Adj.Close\")]\n",
    "ORCL = read.csv(\"/Users/davianbrown/Documents/GitHub/CS636_MidtermProject/ORCL.csv\")[, c(\"Close\", \"Adj.Close\")]\n",
    "SAP = read.csv(\"/Users/davianbrown/Documents/GitHub/CS636_MidtermProject/SAP.csv\")[, c(\"Close\", \"Adj.Close\")]\n",
    "#Date ??\n",
    "Date = read.csv(\"/Users/davianbrown/Documents/GitHub/CS636_MidtermProject/IBM.csv\")[, c(\"Date\")]\n"
   ]
  },
  {
   "cell_type": "code",
   "execution_count": 5,
   "id": "203b23df",
   "metadata": {},
   "outputs": [],
   "source": [
    "#Rename Columns to have name function\n",
    "#Rename IBM\n",
    "names(IBM) = c(\"IBM.Close\",\"IBM.Adj.Close\")\n",
    "#Rename Amazon\n",
    "names(AMZN) = c(\"AMZN.Close\",\"AMZN.Adj.Close\")\n",
    "#Rename Microsoft\n",
    "names(MSFT) = c(\"MSFT.Close\",\"MSFT.Adj.Close\")\n",
    "#Rename Google\n",
    "names(GOOG) = c(\"GOOG.Close\",\"GOOG.Adj.Close\")\n",
    "#Rename Apple\n",
    "names(AAPL) = c(\"AAPL.Close\",\"AAPL.Adj.Close\")\n",
    "#Rename Facebook\n",
    "names(FB) = c(\"FB.Close\",\"FB.Adj.Close\")\n",
    "#Rename Netflix\n",
    "names(NFLX) = c(\"NFLX.Close\",\"NFLX.Adj.Close\")\n",
    "#Rename Tesla\n",
    "names(TSLA) = c(\"TSLA.Close\",\"TSLA.Adj.Close\")\n",
    "#Rename Oracle\n",
    "names(ORCL) = c(\"ORCL.Close\",\"ORCL.Adj.Close\")\n",
    "#Rename SAP\n",
    "names(SAP) = c(\"SAP.Close\",\"SAP.Adj.Close\")\n",
    "\n",
    "\n",
    "\n",
    "\n",
    "\n"
   ]
  },
  {
   "cell_type": "markdown",
   "id": "d7cf8f68",
   "metadata": {},
   "source": [
    "<h2> <b> Retrieve the \"Close\" and \"Adj Close\" values for each stock </b> <h2>\n",
    "    You will create a dataframe where there are 20 columns for the 10 stocks, each row is the \"Close\" and \"Adj Close\" prices for the 10 stocks on each day, in the order of the business days in 2018. Assume all buy/sell on the \"Close\" prices and there is no transaction cost.\n"
   ]
  },
  {
   "cell_type": "code",
   "execution_count": 6,
   "id": "7030321c",
   "metadata": {},
   "outputs": [],
   "source": [
    "#Add all Stocks to Dataframe\n",
    "market = as.data.frame(cbind(Date, IBM, AMZN,MSFT,GOOG,AAPL, FB, NFLX, TSLA,ORCL, SAP))"
   ]
  },
  {
   "cell_type": "code",
   "execution_count": null,
   "id": "c1b9bb39",
   "metadata": {},
   "outputs": [],
   "source": [
    "head(market)"
   ]
  },
  {
   "cell_type": "markdown",
   "id": "df11b682",
   "metadata": {},
   "source": [
    "<h2> <b> You start to manage 5 million dollars fund on Jan 02, 2018 </b> </h2>\n",
    "<br></br>\n",
    "    You have a strategy to manage the fund."
   ]
  },
  {
   "cell_type": "code",
   "execution_count": 42,
   "id": "48d9d5f6",
   "metadata": {},
   "outputs": [],
   "source": [
    "# Function to get the Trading Day stock value\n",
    "ValueofStock = function(Stock,Date){  #Stock Value = SV\n",
    "    Stock = paste(Stock, \".Close\", sep=\"\" )\n",
    "    StockPrice = market[[Stock]][Date]\n",
    "    return(StockPrice)\n",
    "   }\n",
    "\n"
   ]
  },
  {
   "cell_type": "code",
   "execution_count": 36,
   "id": "8dd0102f",
   "metadata": {},
   "outputs": [],
   "source": [
    "# This Function enables traders to purchase Stocks.\n",
    "purchaseStocks = function(df) { #buyStock\n",
    "       \n",
    "    level = data.frame(stock=df[[\"stock\"]], balance = 0, cash = 0) \n",
    "    \n",
    "    stock = paste(level[[\"stock\"]] , \".Close\", sep=\"\")\n",
    "    \n",
    "     day = df[[\"day\"]]\n",
    "    \n",
    "    StockPrice = market[[stock]][day]\n",
    "    \n",
    "    StockPurchasedAmount = df[[\"cash\"]] %% StockPrice\n",
    "    \n",
    "    StockPurchasedAmount = level$balance\n",
    "    \n",
    "    cashRemainder = df[[\"cash\"]] - (StockPurchasedAmount * StockPrice)\n",
    "    \n",
    "    cashRemainder = level$balance\n",
    "    \n",
    "    return(level)\n",
    "}\n"
   ]
  },
  {
   "cell_type": "code",
   "execution_count": 48,
   "id": "f50aa57f",
   "metadata": {},
   "outputs": [],
   "source": [
    "#Function to Calculate MTM\n",
    "mtm = function(date,cash, stocks, shares){ #mtmvalue\n",
    "\n",
    "result = 0\n",
    "    \n",
    "for (y in 1:length(stocks)) {\n",
    "    value = ValueofStock(stocks[y], date) * as.numeric(shares[y])\n",
    "        result = result + value\n",
    "    }\n",
    "    \n",
    "    return(result)\n",
    "}\n",
    "\n"
   ]
  },
  {
   "cell_type": "code",
   "execution_count": 38,
   "id": "586360c1",
   "metadata": {},
   "outputs": [],
   "source": [
    "\n",
    "recordHigh = function(today, interval){ #Surged most\n",
    "   \n",
    "    stockData = market\n",
    "    \n",
    "    #Select Data into Stock Data\n",
    "    mydata = select(stockData,ends_with(\"Adj.Close\"))\n",
    "    \n",
    "    recordHigh = mydata %>% slice(today-interval,today) %>%\n",
    "    mutate(IBM = (IBM.Adj.Close - lag(IBM.Adj.Close))/lag(IBM.Adj.Close) * 100) %>%\n",
    "    mutate(AMZN = (AMZN.Adj.Close - lag(AMZN.Adj.Close))/lag(AMZN.Adj.Close) * 100) %>%\n",
    "    mutate(AAPL = (AAPL.Adj.Close - lag(AAPL.Adj.Close))/lag(AAPL.Adj.Close) * 100) %>%\n",
    "    mutate(FB = (FB.Adj.Close - lag(FB.Adj.Close))/lag(FB.Adj.Close) * 100) %>%\n",
    "    mutate(GOOG = (GOOG.Adj.Close - lag(GOOG.Adj.Close))/lag(GOOG.Adj.Close) * 100) %>%\n",
    "    mutate(MSFT = (MSFT.Adj.Close - lag(MSFT.Adj.Close))/lag(MSFT.Adj.Close) * 100) %>%\n",
    "    mutate(NFLX = (NFLX.Adj.Close - lag(NFLX.Adj.Close))/lag(NFLX.Adj.Close) * 100) %>%\n",
    "    mutate(ORCL = (ORCL.Adj.Close - lag(ORCL.Adj.Close))/lag(ORCL.Adj.Close) * 100) %>%\n",
    "    mutate(SAP = (SAP.Adj.Close - lag(SAP.Adj.Close))/lag(SAP.Adj.Close) * 100) %>%\n",
    "    mutate(TSLA = (TSLA.Adj.Close - lag(TSLA.Adj.Close))/lag(TSLA.Adj.Close) * 100) %>%\n",
    "    select(-contains(\".Adj.Close\")) %>%\n",
    "    slice(2) \n",
    "    MuStock()\n",
    "    allCols = sort(recordHigh[1,1:10])\n",
    "    cols = c(colnames(allCols))\n",
    "    return(cols[6:10])\n",
    "}\n"
   ]
  },
  {
   "cell_type": "code",
   "execution_count": 11,
   "id": "3f13035b",
   "metadata": {},
   "outputs": [],
   "source": [
    "\n",
    "#This Function Finds The Stock that has performed the best and has the highest surge\n",
    "\n",
    "######****** LEFT OFF EDITING HERE*******########\n",
    "\n",
    "\n",
    "#function to find dropped the most\n",
    "droppedMost = function(today, interval){\n",
    "    mydata = market\n",
    "    mydata = select(mydata,ends_with(\"Adj.Close\"))\n",
    "    droppedmost = mydata %>% slice(today-interval,today) %>%\n",
    "    mutate(IBM = (IBM.Adj.Close - lag(IBM.Adj.Close))/lag(IBM.Adj.Close) * 100) %>%\n",
    "    mutate(AMZN = (AMZN.Adj.Close - lag(AMZN.Adj.Close))/lag(AMZN.Adj.Close) * 100) %>%\n",
    "    mutate(AAPL = (AAPL.Adj.Close - lag(AAPL.Adj.Close))/lag(AAPL.Adj.Close) * 100) %>%\n",
    "    mutate(FB = (FB.Adj.Close - lag(FB.Adj.Close))/lag(FB.Adj.Close) * 100) %>%\n",
    "    mutate(GOOG = (GOOG.Adj.Close - lag(GOOG.Adj.Close))/lag(GOOG.Adj.Close) * 100) %>%\n",
    "    mutate(MSFT = (MSFT.Adj.Close - lag(MSFT.Adj.Close))/lag(MSFT.Adj.Close) * 100) %>%\n",
    "    mutate(NFLX = (NFLX.Adj.Close - lag(NFLX.Adj.Close))/lag(NFLX.Adj.Close) * 100) %>%\n",
    "    mutate(ORCL = (ORCL.Adj.Close - lag(ORCL.Adj.Close))/lag(ORCL.Adj.Close) * 100) %>%\n",
    "    mutate(SAP = (SAP.Adj.Close - lag(SAP.Adj.Close))/lag(SAP.Adj.Close) * 100) %>%\n",
    "    mutate(TSLA = (TSLA.Adj.Close - lag(TSLA.Adj.Close))/lag(TSLA.Adj.Close) * 100) %>%\n",
    "    select(-contains(\".Adj.Close\")) %>%\n",
    "    slice(2)\n",
    "    allCols = sort(droppedmost[1,1:10])\n",
    "    cols = c(colnames(allCols))\n",
    "    return(cols[1:5])\n",
    "    }"
   ]
  },
  {
   "cell_type": "code",
   "execution_count": 39,
   "id": "7c75e634",
   "metadata": {},
   "outputs": [],
   "source": [
    "#function to calculate percent change\n",
    "pc = function(p,c){ #percentChange\n",
    "    precent = c - p\n",
    "    \n",
    "    precent = precent/p\n",
    "    \n",
    "    return(precent*100)\n",
    "}\n"
   ]
  },
  {
   "cell_type": "code",
   "execution_count": 49,
   "id": "235a9a12",
   "metadata": {},
   "outputs": [
    {
     "ename": "ERROR",
     "evalue": "Error in mtm(today, investment_amount, stocks, shares): 'list' object cannot be coerced to type 'double'\n",
     "output_type": "error",
     "traceback": [
      "Error in mtm(today, investment_amount, stocks, shares): 'list' object cannot be coerced to type 'double'\nTraceback:\n",
      "1. mtm(today, investment_amount, stocks, shares)"
     ]
    }
   ],
   "source": [
    "# initialize variables\n",
    "\n",
    "buyStocksDf = data.frame(day = 12,stock = \"IBM\",cash = 10000)\n",
    "\n",
    "investment_amount  = 5000000\n",
    "dayInterval = 5\n",
    "mtmprev = 0\n",
    "mtmcurr = 0\n",
    "mtm1 = list()\n",
    "mtm1Val = list()\n",
    "stocks = list()\n",
    "shares = list()\n",
    "\n",
    "# 5 days rebalancing of buying low\n",
    "for (today in 1:NROW(Date)){\n",
    "    if(today %% dayInterval == 1){\n",
    "        #initial day\n",
    "        if(today == 1){\n",
    "            stocks = list('IBM', 'MSFT', 'GOOG', 'AAPL', 'AMZN')\n",
    "            splitCash = investment_amount/5\n",
    "            totalCash = 0\n",
    "            for(x in stocks){\n",
    "                buyStocksDf = data.frame(day = today ,stock = x,cash = splitCash)\n",
    "                stockDf = purchaseStocks(buyStocksDf)\n",
    "                totalCash = investment_amount + stockDf$remainingCash\n",
    "                shares = append(shares, stockDf$amount)\n",
    "            }\n",
    "}\n",
    " #rebalance\n",
    "        else {\n",
    "            #find the 5 stocks whose \"Adj Close\" prices dropped the most\n",
    "            mostDropped = droppedMost(today,dayInterval)\n",
    "            #sell all current holdings\n",
    "            for(x in stocks){\n",
    "                investment_amount = investment_amount + ValueofStock(x, today)\n",
    "            }\n",
    "            stocks = list()\n",
    "            shares = list()\n",
    "            #split your cash\n",
    "            splitCash = investment_amount/5\n",
    "            #buy the max shares of stock\n",
    "            stocks = mostDropped\n",
    "            for(x in stocks){\n",
    "                buyStocksDf = data.frame(day = today ,stock = x,cash = splitCash)\n",
    "                stockDf = buyStocks(buyStocksDf)\n",
    "                investment_amount = investment_amount + stockDf$remainingCash\n",
    "                shares = append(shares, stockDf$amount)\n",
    "            }\n",
    "}\n",
    "    }\n",
    "\n",
    "    #mtmprev = mtmcurr\n",
    "    #USD to JPY\n",
    "    mtmcurr = mtm(today, investment_amount, stocks, shares)\n",
    "    mtm1Val = append(mtm1Val, mtmcurr)\n",
    "    mtm1 = append(mtm1, percentChange(mtmprev,mtmcurr))\n",
    "}\n",
    "#total\n",
    "plot((2:250),mtm1Val[-1])\n",
    "#percent change\n",
    "plot((2:250),mtm1[-1])\n",
    "#function for high-tech index\n",
    "\n",
    "highTech = function(){\n",
    "    ht = universe\n",
    "    htday = ht %>% select(1,3,5,7,9,11,13,15,17,19)\n",
    "    return(rowMeans(htday))\n",
    "}\n",
    "myHighTechAvg = highTech()\n",
    "myHighTechPercent = list()\n",
    "for(x in 2:250){\n",
    "    myHighTechPercent = append(myHighTechPercent, percentChange(x-1,x))\n",
    "}\n",
    "#High-Tech Stock Percentage Comparison\n",
    "plot((2:250),myHighTechPercent)"
   ]
  },
  {
   "cell_type": "code",
   "execution_count": null,
   "id": "9a1cc284",
   "metadata": {},
   "outputs": [],
   "source": []
  }
 ],
 "metadata": {
  "kernelspec": {
   "display_name": "R",
   "language": "R",
   "name": "ir"
  },
  "language_info": {
   "codemirror_mode": "r",
   "file_extension": ".r",
   "mimetype": "text/x-r-source",
   "name": "R",
   "pygments_lexer": "r",
   "version": "4.1.1"
  }
 },
 "nbformat": 4,
 "nbformat_minor": 5
}
