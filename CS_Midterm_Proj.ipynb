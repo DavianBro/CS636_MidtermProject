{
 "cells": [
  {
   "cell_type": "code",
   "execution_count": null,
   "id": "78ac2832",
   "metadata": {},
   "outputs": [],
   "source": [
    "# Initial Commit For R Project.\n",
    "# R Project\n",
    "#Upload Stock Data"
   ]
  }
 ],
 "metadata": {
  "kernelspec": {
   "display_name": "R",
   "language": "R",
   "name": "ir"
  },
  "language_info": {
   "codemirror_mode": "r",
   "file_extension": ".r",
   "mimetype": "text/x-r-source",
   "name": "R",
   "pygments_lexer": "r",
   "version": "4.1.1"
  }
 },
 "nbformat": 4,
 "nbformat_minor": 5
}
